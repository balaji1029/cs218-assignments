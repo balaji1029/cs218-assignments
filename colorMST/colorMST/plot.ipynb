{
 "cells": [
  {
   "cell_type": "code",
   "execution_count": 30,
   "metadata": {},
   "outputs": [],
   "source": [
    "import matplotlib.pyplot as plt\n",
    "import numpy as np"
   ]
  },
  {
   "cell_type": "code",
   "execution_count": 14,
   "metadata": {},
   "outputs": [
    {
     "name": "stdout",
     "output_type": "stream",
     "text": [
      "1\n",
      "38\n",
      "\n",
      "real\t0m0.006s\n",
      "user\t0m0.002s\n",
      "sys\t0m0.004s\n"
     ]
    }
   ],
   "source": [
    "!time ./a.out < input1"
   ]
  },
  {
   "cell_type": "code",
   "execution_count": 15,
   "metadata": {},
   "outputs": [
    {
     "name": "stdout",
     "output_type": "stream",
     "text": [
      "1\n",
      "13\n",
      "\n",
      "real\t0m0.004s\n",
      "user\t0m0.003s\n",
      "sys\t0m0.001s\n"
     ]
    }
   ],
   "source": [
    "!time ./a.out < input2"
   ]
  },
  {
   "cell_type": "code",
   "execution_count": 16,
   "metadata": {},
   "outputs": [
    {
     "name": "stdout",
     "output_type": "stream",
     "text": [
      "1\n",
      "11\n",
      "\n",
      "real\t0m0.005s\n",
      "user\t0m0.001s\n",
      "sys\t0m0.003s\n"
     ]
    }
   ],
   "source": [
    "!time ./a.out < input3"
   ]
  },
  {
   "cell_type": "code",
   "execution_count": 17,
   "metadata": {},
   "outputs": [
    {
     "name": "stdout",
     "output_type": "stream",
     "text": [
      "8\n",
      "288\n",
      "\n",
      "real\t0m0.005s\n",
      "user\t0m0.002s\n",
      "sys\t0m0.003s\n"
     ]
    }
   ],
   "source": [
    "!time ./a.out < input4"
   ]
  },
  {
   "cell_type": "code",
   "execution_count": 18,
   "metadata": {},
   "outputs": [
    {
     "name": "stdout",
     "output_type": "stream",
     "text": [
      "7\n",
      "342\n",
      "\n",
      "real\t0m0.005s\n",
      "user\t0m0.003s\n",
      "sys\t0m0.002s\n"
     ]
    }
   ],
   "source": [
    "!time ./a.out < input5"
   ]
  },
  {
   "cell_type": "code",
   "execution_count": 19,
   "metadata": {},
   "outputs": [
    {
     "name": "stdout",
     "output_type": "stream",
     "text": [
      "9\n",
      "58\n",
      "\n",
      "real\t0m0.004s\n",
      "user\t0m0.002s\n",
      "sys\t0m0.002s\n"
     ]
    }
   ],
   "source": [
    "!time ./a.out < input6"
   ]
  },
  {
   "cell_type": "code",
   "execution_count": 20,
   "metadata": {},
   "outputs": [
    {
     "name": "stdout",
     "output_type": "stream",
     "text": [
      "335\n",
      "149801\n",
      "\n",
      "real\t0m3.070s\n",
      "user\t0m3.058s\n",
      "sys\t0m0.010s\n"
     ]
    }
   ],
   "source": [
    "!time ./a.out < input7"
   ]
  },
  {
   "cell_type": "code",
   "execution_count": 21,
   "metadata": {},
   "outputs": [
    {
     "name": "stdout",
     "output_type": "stream",
     "text": [
      "406\n",
      "6796\n",
      "\n",
      "real\t0m3.122s\n",
      "user\t0m3.105s\n",
      "sys\t0m0.015s\n"
     ]
    }
   ],
   "source": [
    "!time ./a.out < input8"
   ]
  },
  {
   "cell_type": "code",
   "execution_count": 22,
   "metadata": {},
   "outputs": [
    {
     "name": "stdout",
     "output_type": "stream",
     "text": [
      "997\n",
      "15051\n",
      "\n",
      "real\t0m7.671s\n",
      "user\t0m7.662s\n",
      "sys\t0m0.007s\n"
     ]
    }
   ],
   "source": [
    "!time ./a.out < input9"
   ]
  },
  {
   "cell_type": "code",
   "execution_count": 23,
   "metadata": {},
   "outputs": [
    {
     "name": "stdout",
     "output_type": "stream",
     "text": [
      "1265\n",
      "4635\n",
      "\n",
      "real\t0m12.385s\n",
      "user\t0m12.325s\n",
      "sys\t0m0.051s\n"
     ]
    }
   ],
   "source": [
    "!time ./a.out < input10"
   ]
  },
  {
   "cell_type": "code",
   "execution_count": 31,
   "metadata": {},
   "outputs": [],
   "source": [
    "x = [1, 2, 3, 4, 5, 6, 7, 8, 9, 10]\n",
    "y = [0.002, 0.003, 0.001, 0.002, 0.003, 0.002, 3.058, 3.105, 7.662, 12.325]\n",
    "v = [6, 4, 4, 20, 20, 20, 1000, 1000, 2000, 2500]\n",
    "e = [10, 5, 5, 40, 50, 40, 5000, 6000, 10000, 13000]"
   ]
  },
  {
   "cell_type": "code",
   "execution_count": 49,
   "metadata": {},
   "outputs": [
    {
     "data": {
      "image/png": "[encoded data removed]",
      "text/plain": [
       "<Figure size 640x480 with 1 Axes>"
      ]
     },
     "metadata": {},
     "output_type": "display_data"
    }
   ],
   "source": [
    "plt.scatter(np.log(np.array(e)) + np.log(np.array(v)) + np.log(np.log(np.array(v))), np.log(np.array(y)))\n",
    "plt.show()"
   ]
  },
  {
   "cell_type": "code",
   "execution_count": null,
   "metadata": {},
   "outputs": [],
   "source": []
  }
 ],
 "metadata": {
  "kernelspec": {
   "display_name": "Python (venv)",
   "language": "python",
   "name": "venv"
  },
  "language_info": {
   "codemirror_mode": {
    "name": "ipython",
    "version": 3
   },
   "file_extension": ".py",
   "mimetype": "text/x-python",
   "name": "python",
   "nbconvert_exporter": "python",
   "pygments_lexer": "ipython3",
   "version": "3.12.3"
  }
 },
 "nbformat": 4,
 "nbformat_minor": 2
}
